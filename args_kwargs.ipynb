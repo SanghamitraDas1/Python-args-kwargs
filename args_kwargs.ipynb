{
 "cells": [
  {
   "cell_type": "code",
   "execution_count": 70,
   "id": "85ebe232-c324-453f-95f0-6b872d016fce",
   "metadata": {},
   "outputs": [
    {
     "data": {
      "text/plain": [
       "8"
      ]
     },
     "execution_count": 70,
     "metadata": {},
     "output_type": "execute_result"
    }
   ],
   "source": [
    "#Defining a function that returns product of 2 numbers passed as arguments\n",
    "def multiply(a, b):\n",
    "    return a*b\n",
    "\n",
    "multiply(4,2)\n",
    "   "
   ]
  },
  {
   "cell_type": "code",
   "execution_count": 71,
   "id": "a36840da-075f-4c8e-8d1c-8322507a5692",
   "metadata": {},
   "outputs": [
    {
     "name": "stdout",
     "output_type": "stream",
     "text": [
      "[4, 2, 1]\n"
     ]
    },
    {
     "data": {
      "text/plain": [
       "8"
      ]
     },
     "execution_count": 71,
     "metadata": {},
     "output_type": "execute_result"
    }
   ],
   "source": [
    "#Rewriting the same function which returns the product of a list of numbers passed as arguments\n",
    "def multiply(numbers):\n",
    "    result = 1\n",
    "    print(numbers)\n",
    "    for n in numbers:\n",
    "        result = result * n\n",
    "    return result\n",
    "\n",
    "multiply([4,2,1])"
   ]
  },
  {
   "cell_type": "code",
   "execution_count": 72,
   "id": "ab0063f1-e7a3-491f-b628-86d8cf07f592",
   "metadata": {},
   "outputs": [
    {
     "name": "stdout",
     "output_type": "stream",
     "text": [
      "(4, 2, 1)\n"
     ]
    },
    {
     "data": {
      "text/plain": [
       "8"
      ]
     },
     "execution_count": 72,
     "metadata": {},
     "output_type": "execute_result"
    }
   ],
   "source": [
    "#By using args (*) we have the flexibity of changing the number of arguments passed\n",
    "def multiply(*numbers):\n",
    "    result = 1\n",
    "    print(numbers)\n",
    "    for n in numbers:\n",
    "        result = result * n\n",
    "    return result\n",
    "\n",
    "multiply(4,2,1)"
   ]
  },
  {
   "cell_type": "code",
   "execution_count": 73,
   "id": "e9f68391-5ed9-430f-86ed-77b0ce75d004",
   "metadata": {},
   "outputs": [
    {
     "name": "stdout",
     "output_type": "stream",
     "text": [
      "1 2\n",
      "(3, 4)\n"
     ]
    }
   ],
   "source": [
    "def function(a,b,*args):\n",
    "    print(a,b)\n",
    "    print(args)\n",
    "\n",
    "function(1,2,3,4)"
   ]
  },
  {
   "cell_type": "code",
   "execution_count": 74,
   "id": "c6f6aa4f-8a8d-424f-be3f-bd5fcd3b2691",
   "metadata": {},
   "outputs": [
    {
     "name": "stdout",
     "output_type": "stream",
     "text": [
      "1 2\n",
      "(3, 4, 5)\n"
     ]
    }
   ],
   "source": [
    "function(1,2,3,4,5)"
   ]
  },
  {
   "cell_type": "code",
   "execution_count": 75,
   "id": "505b1695-458b-4a21-9351-0534789d86a9",
   "metadata": {},
   "outputs": [
    {
     "name": "stdout",
     "output_type": "stream",
     "text": [
      "1 2\n",
      "(3, 4, 5)\n",
      "True\n"
     ]
    }
   ],
   "source": [
    "#Passing keyword arguments\n",
    "def function(a,b,*args, keyword=True):\n",
    "    print(a,b)\n",
    "    print(args)\n",
    "    print(keyword)\n",
    "\n",
    "function(1,2,3,4,5)"
   ]
  },
  {
   "cell_type": "code",
   "execution_count": 76,
   "id": "778ea3d7-6a59-4966-b0d0-3d31eb8e0cb3",
   "metadata": {},
   "outputs": [
    {
     "name": "stdout",
     "output_type": "stream",
     "text": [
      "1 2\n",
      "(3, 4, 5)\n",
      "True\n",
      "{}\n"
     ]
    }
   ],
   "source": [
    "#args will pick up unnamed argumants and kwargs will pick up named arguments\n",
    "def function(a,b,*args, keyword=True, **kwargs):\n",
    "    print(a,b)\n",
    "    print(args)\n",
    "    print(keyword)\n",
    "    print(kwargs)\n",
    "\n",
    "function(1,2,3,4,5)"
   ]
  },
  {
   "cell_type": "code",
   "execution_count": 77,
   "id": "cd0aef19-837b-4b90-a2ce-8ec85735f9c2",
   "metadata": {},
   "outputs": [
    {
     "name": "stdout",
     "output_type": "stream",
     "text": [
      "1 2\n",
      "(3, 4, 5)\n",
      "True\n",
      "{'param': 42}\n"
     ]
    }
   ],
   "source": [
    "def function(a,b,*args, keyword=True, **kwargs):\n",
    "    print(a,b)\n",
    "    print(args)\n",
    "    print(keyword)\n",
    "    print(kwargs)\n",
    "\n",
    "function(1,2,3,4,5, param=42)"
   ]
  },
  {
   "cell_type": "code",
   "execution_count": 78,
   "id": "ad69c3ac-e655-4f66-aeef-4ccdda3fee48",
   "metadata": {},
   "outputs": [
    {
     "ename": "SyntaxError",
     "evalue": "positional argument follows keyword argument (1224838795.py, line 2)",
     "output_type": "error",
     "traceback": [
      "\u001b[1;36m  Cell \u001b[1;32mIn[78], line 2\u001b[1;36m\u001b[0m\n\u001b[1;33m    function(a=1,b=2,3,4,5,param=42)\u001b[0m\n\u001b[1;37m                                   ^\u001b[0m\n\u001b[1;31mSyntaxError\u001b[0m\u001b[1;31m:\u001b[0m positional argument follows keyword argument\n"
     ]
    }
   ],
   "source": [
    "#Error\n",
    "function(a=1,b=2,3,4,5,param=42)"
   ]
  },
  {
   "cell_type": "code",
   "execution_count": 79,
   "id": "187bc9b9-c5e7-4b54-ba72-d397b6dbeba8",
   "metadata": {},
   "outputs": [],
   "source": [
    "#The above block throws an error because python is expecting keyword arguments in the end and specifying a=1 and b=1 confuses it because it is in the \n",
    "#first and second positions. Hence it is throwing a syntax error. \n",
    "#We need to make sure that the positional arguments are separated from the keyword or named arguments"
   ]
  },
  {
   "cell_type": "code",
   "execution_count": 80,
   "id": "5d578258-e2ed-451e-9fef-54fc69c37f5a",
   "metadata": {},
   "outputs": [
    {
     "name": "stdout",
     "output_type": "stream",
     "text": [
      "1 2\n",
      "(3, 4, 5)\n",
      "True\n",
      "{'param': 42}\n"
     ]
    }
   ],
   "source": [
    "#Running after correcting\n",
    "function(1,2,3,4,5,param=42)"
   ]
  },
  {
   "cell_type": "code",
   "execution_count": 81,
   "id": "b813ae39-aa95-43e5-8744-91f51653acc3",
   "metadata": {},
   "outputs": [
    {
     "name": "stdout",
     "output_type": "stream",
     "text": [
      "1 2\n",
      "(3, 4, 5)\n",
      "True\n",
      "{'param': 42, 'param_a': 43, 'param_b': 44}\n"
     ]
    }
   ],
   "source": [
    "#Passing list and dictionary as arguments and keyword arguments\n",
    "d={'param_a':43, 'param_b':44}\n",
    "c=[3,4,5]\n",
    "function(1,2,*c,param=42,**d)"
   ]
  },
  {
   "cell_type": "code",
   "execution_count": 82,
   "id": "4fa92ce5-7b0d-4014-a7e2-4c9bcad84d48",
   "metadata": {},
   "outputs": [
    {
     "name": "stdout",
     "output_type": "stream",
     "text": [
      "1 2\n",
      "([3, 4, 5],)\n",
      "True\n",
      "{'param': 42, 'param_a': 43, 'param_b': 44}\n"
     ]
    }
   ],
   "source": [
    "#In the above result, the function has unpacked the list. What if we don't want to unapck?\n",
    "function(1,2,c,param=42,**d)"
   ]
  },
  {
   "cell_type": "markdown",
   "id": "ba6b706d-aae3-48c9-8e10-6e499fa59169",
   "metadata": {},
   "source": [
    "We can see by removing the * from args, it has returned the list without unpacking"
   ]
  },
  {
   "cell_type": "code",
   "execution_count": 83,
   "id": "6fce05df-712f-4eff-9bf4-2721c014e942",
   "metadata": {},
   "outputs": [],
   "source": [
    "#Usecase\n",
    "#Converting dictionay into json\n",
    "import json"
   ]
  },
  {
   "cell_type": "code",
   "execution_count": 84,
   "id": "79230666-dbec-42ea-8081-23cc7de22638",
   "metadata": {},
   "outputs": [],
   "source": [
    "#Defining a sample dictionary\n",
    "sample_dict = {\n",
    "    \"colors\": {\n",
    "        \"Red\": \"#FF0000\",\n",
    "        \"Blue\": \"#0000FF\",\n",
    "        \"Green\": \"#00FF00\",\n",
    "        \"Yellow\": \"#FFFF00\"\n",
    "    },\n",
    "    \"places\": {\n",
    "        \"Paris\": \"France\",\n",
    "        \"New York\": \"United States\",\n",
    "        \"Tokyo\": \"Japan\",\n",
    "        \"Sydney\": \"Australia\"\n",
    "    },\n",
    "    \"things\": {\n",
    "        \"Car\": \"Vehicle\",\n",
    "        \"Book\": \"Reading Material\",\n",
    "        \"Computer\": \"Electronic Device\",\n",
    "        \"Sunglasses\": \"Accessories\"\n",
    "    }\n",
    "}"
   ]
  },
  {
   "cell_type": "code",
   "execution_count": 85,
   "id": "164afa45-56fa-4c46-8edb-3418348cf941",
   "metadata": {},
   "outputs": [],
   "source": [
    "#Function to convert dictionary into json\n",
    "#We are using kwargs to pass named arguments\n",
    "def dict_to_json(dictionary, **kwargs):\n",
    "    json_text = json.dumps(dictionary, **kwargs)\n",
    "    print(json_text)"
   ]
  },
  {
   "cell_type": "code",
   "execution_count": 86,
   "id": "54c2e3f1-a5d7-4616-8041-41e9a13ac73b",
   "metadata": {},
   "outputs": [
    {
     "name": "stdout",
     "output_type": "stream",
     "text": [
      "{\"colors\": {\"Red\": \"#FF0000\", \"Blue\": \"#0000FF\", \"Green\": \"#00FF00\", \"Yellow\": \"#FFFF00\"}, \"places\": {\"Paris\": \"France\", \"New York\": \"United States\", \"Tokyo\": \"Japan\", \"Sydney\": \"Australia\"}, \"things\": {\"Car\": \"Vehicle\", \"Book\": \"Reading Material\", \"Computer\": \"Electronic Device\", \"Sunglasses\": \"Accessories\"}}\n"
     ]
    }
   ],
   "source": [
    "#Calling the function without passing any kwargs\n",
    "dict_to_json(sample_dict)"
   ]
  },
  {
   "cell_type": "code",
   "execution_count": 87,
   "id": "cf962d83-c6d9-4f3b-8905-dd898bb63dc4",
   "metadata": {},
   "outputs": [
    {
     "name": "stdout",
     "output_type": "stream",
     "text": [
      "{\n",
      " \"colors\": {\n",
      "  \"Red\": \"#FF0000\",\n",
      "  \"Blue\": \"#0000FF\",\n",
      "  \"Green\": \"#00FF00\",\n",
      "  \"Yellow\": \"#FFFF00\"\n",
      " },\n",
      " \"places\": {\n",
      "  \"Paris\": \"France\",\n",
      "  \"New York\": \"United States\",\n",
      "  \"Tokyo\": \"Japan\",\n",
      "  \"Sydney\": \"Australia\"\n",
      " },\n",
      " \"things\": {\n",
      "  \"Car\": \"Vehicle\",\n",
      "  \"Book\": \"Reading Material\",\n",
      "  \"Computer\": \"Electronic Device\",\n",
      "  \"Sunglasses\": \"Accessories\"\n",
      " }\n",
      "}\n"
     ]
    }
   ],
   "source": [
    "#Calling function by passing kwarg indent=True\n",
    "dict_to_json(sample_dict, indent=True)"
   ]
  },
  {
   "cell_type": "code",
   "execution_count": 88,
   "id": "0d107949-8d16-4cae-87c0-637641330bca",
   "metadata": {},
   "outputs": [
    {
     "name": "stdout",
     "output_type": "stream",
     "text": [
      "{\n",
      " \"colors\": {\n",
      "  \"Blue\": \"#0000FF\",\n",
      "  \"Green\": \"#00FF00\",\n",
      "  \"Red\": \"#FF0000\",\n",
      "  \"Yellow\": \"#FFFF00\"\n",
      " },\n",
      " \"places\": {\n",
      "  \"New York\": \"United States\",\n",
      "  \"Paris\": \"France\",\n",
      "  \"Sydney\": \"Australia\",\n",
      "  \"Tokyo\": \"Japan\"\n",
      " },\n",
      " \"things\": {\n",
      "  \"Book\": \"Reading Material\",\n",
      "  \"Car\": \"Vehicle\",\n",
      "  \"Computer\": \"Electronic Device\",\n",
      "  \"Sunglasses\": \"Accessories\"\n",
      " }\n",
      "}\n"
     ]
    }
   ],
   "source": [
    "#Calling function by passing kwarg sort_keys=True\n",
    "dict_to_json(sample_dict, indent=True, sort_keys=True)"
   ]
  },
  {
   "cell_type": "code",
   "execution_count": null,
   "id": "7314868e-9682-4a09-9f0e-71158d98447f",
   "metadata": {},
   "outputs": [],
   "source": []
  }
 ],
 "metadata": {
  "kernelspec": {
   "display_name": "Python 3 (ipykernel)",
   "language": "python",
   "name": "python3"
  },
  "language_info": {
   "codemirror_mode": {
    "name": "ipython",
    "version": 3
   },
   "file_extension": ".py",
   "mimetype": "text/x-python",
   "name": "python",
   "nbconvert_exporter": "python",
   "pygments_lexer": "ipython3",
   "version": "3.12.1"
  }
 },
 "nbformat": 4,
 "nbformat_minor": 5
}
